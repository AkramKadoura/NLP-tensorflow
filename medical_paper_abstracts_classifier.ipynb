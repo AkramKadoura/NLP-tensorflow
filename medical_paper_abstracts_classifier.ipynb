{
  "nbformat": 4,
  "nbformat_minor": 0,
  "metadata": {
    "colab": {
      "name": "medical_paper_abstracts_classifier.ipynb",
      "provenance": [],
      "collapsed_sections": [],
      "authorship_tag": "ABX9TyM0i6mPKBUPKfZOGqU2/ZKX",
      "include_colab_link": true
    },
    "kernelspec": {
      "name": "python3",
      "display_name": "Python 3"
    },
    "language_info": {
      "name": "python"
    },
    "accelerator": "GPU"
  },
  "cells": [
    {
      "cell_type": "markdown",
      "metadata": {
        "id": "view-in-github",
        "colab_type": "text"
      },
      "source": [
        "<a href=\"https://colab.research.google.com/github/AkramKadoura/NLP-tensorflow/blob/main/medical_paper_abstracts_classifier.ipynb\" target=\"_parent\"><img src=\"https://colab.research.google.com/assets/colab-badge.svg\" alt=\"Open In Colab\"/></a>"
      ]
    },
    {
      "cell_type": "markdown",
      "metadata": {
        "id": "DJu7gn7wOs5j"
      },
      "source": [
        "## Medical Paper Abstracts Sentence Classification 👨‍💻📋\n",
        "NLP Model to make reading medical paper abstract easier. \n",
        "Replication of the paper: https://arxiv.org/pdf/1612.05251.pdf\n"
      ]
    },
    {
      "cell_type": "code",
      "metadata": {
        "colab": {
          "base_uri": "https://localhost:8080/"
        },
        "id": "aZCwTADJPegt",
        "outputId": "76f01e36-7130-4cbf-e059-b877a19e6d16"
      },
      "source": [
        "!nvidia-smi"
      ],
      "execution_count": null,
      "outputs": [
        {
          "output_type": "stream",
          "text": [
            "Fri Aug  6 00:20:08 2021       \n",
            "+-----------------------------------------------------------------------------+\n",
            "| NVIDIA-SMI 470.42.01    Driver Version: 460.32.03    CUDA Version: 11.2     |\n",
            "|-------------------------------+----------------------+----------------------+\n",
            "| GPU  Name        Persistence-M| Bus-Id        Disp.A | Volatile Uncorr. ECC |\n",
            "| Fan  Temp  Perf  Pwr:Usage/Cap|         Memory-Usage | GPU-Util  Compute M. |\n",
            "|                               |                      |               MIG M. |\n",
            "|===============================+======================+======================|\n",
            "|   0  Tesla T4            Off  | 00000000:00:04.0 Off |                    0 |\n",
            "| N/A   56C    P8    10W /  70W |      0MiB / 15109MiB |      0%      Default |\n",
            "|                               |                      |                  N/A |\n",
            "+-------------------------------+----------------------+----------------------+\n",
            "                                                                               \n",
            "+-----------------------------------------------------------------------------+\n",
            "| Processes:                                                                  |\n",
            "|  GPU   GI   CI        PID   Type   Process name                  GPU Memory |\n",
            "|        ID   ID                                                   Usage      |\n",
            "|=============================================================================|\n",
            "|  No running processes found                                                 |\n",
            "+-----------------------------------------------------------------------------+\n"
          ],
          "name": "stdout"
        }
      ]
    },
    {
      "cell_type": "code",
      "metadata": {
        "colab": {
          "base_uri": "https://localhost:8080/"
        },
        "id": "m8Hw_Dq9QWWN",
        "outputId": "012ad40f-aaf7-424d-d13b-83a14ed61d12"
      },
      "source": [
        "# Get the dataset from author's github\n",
        "!git clone https://github.com/Franck-Dernoncourt/pubmed-rct.git"
      ],
      "execution_count": null,
      "outputs": [
        {
          "output_type": "stream",
          "text": [
            "Cloning into 'pubmed-rct'...\n",
            "remote: Enumerating objects: 33, done.\u001b[K\n",
            "remote: Counting objects: 100% (3/3), done.\u001b[K\n",
            "remote: Compressing objects: 100% (3/3), done.\u001b[K\n",
            "remote: Total 33 (delta 0), reused 0 (delta 0), pack-reused 30\u001b[K\n",
            "Unpacking objects: 100% (33/33), done.\n"
          ],
          "name": "stdout"
        }
      ]
    },
    {
      "cell_type": "code",
      "metadata": {
        "id": "ZShY10rIR_Xq"
      },
      "source": [
        "data_dir = \"/content/pubmed-rct/PubMed_20k_RCT_numbers_replaced_with_at_sign/\""
      ],
      "execution_count": null,
      "outputs": []
    },
    {
      "cell_type": "code",
      "metadata": {
        "colab": {
          "base_uri": "https://localhost:8080/"
        },
        "id": "VEN6zZqeU3Cb",
        "outputId": "313258eb-f14e-411e-e6c3-f3f317dd1bd0"
      },
      "source": [
        "import os\n",
        "filenames = [data_dir + filename for filename in os.listdir(data_dir)]\n",
        "filenames"
      ],
      "execution_count": null,
      "outputs": [
        {
          "output_type": "execute_result",
          "data": {
            "text/plain": [
              "['/content/pubmed-rct/PubMed_20k_RCT_numbers_replaced_with_at_sign/dev.txt',\n",
              " '/content/pubmed-rct/PubMed_20k_RCT_numbers_replaced_with_at_sign/train.txt',\n",
              " '/content/pubmed-rct/PubMed_20k_RCT_numbers_replaced_with_at_sign/test.txt']"
            ]
          },
          "metadata": {
            "tags": []
          },
          "execution_count": 4
        }
      ]
    },
    {
      "cell_type": "code",
      "metadata": {
        "id": "7QOf4a7GVFGh"
      },
      "source": [
        "# Data Preprocessing\n",
        "\n",
        "def get_lines(filename):\n",
        "  \"\"\"\n",
        "  Takes filename as an input and returns a list of the file lines.\n",
        "  \"\"\"\n",
        "  with open(filename, 'r') as f:\n",
        "    return f.readlines()"
      ],
      "execution_count": null,
      "outputs": []
    },
    {
      "cell_type": "code",
      "metadata": {
        "colab": {
          "base_uri": "https://localhost:8080/"
        },
        "id": "Omk6C7M_ZMDE",
        "outputId": "1d96a449-7a7a-4497-ed4e-8dceec47ee7a"
      },
      "source": [
        "test_lines = get_lines(data_dir+\"test.txt\")\n",
        "test_lines[:5]"
      ],
      "execution_count": null,
      "outputs": [
        {
          "output_type": "execute_result",
          "data": {
            "text/plain": [
              "['###24845963\\n',\n",
              " 'BACKGROUND\\tThis study analyzed liver function abnormalities in heart failure patients admitted with severe acute decompensated heart failure ( ADHF ) .\\n',\n",
              " 'RESULTS\\tA post hoc analysis was conducted with the use of data from the Evaluation Study of Congestive Heart Failure and Pulmonary Artery Catheterization Effectiveness ( ESCAPE ) .\\n',\n",
              " 'RESULTS\\tLiver function tests ( LFTs ) were measured at @ time points from baseline , at discharge , and up to @ months follow-up .\\n',\n",
              " 'RESULTS\\tSurvival analyses were used to assess the association between admission Model of End-Stage Liver Disease Excluding International Normalized Ratio ( MELD-XI ) scores and patient outcome.There was a high prevalence of abnormal baseline ( admission ) LFTs ( albumin @ % , aspartate transaminase @ % , alanine transaminase @ % , and total bilirubin @ % ) .\\n']"
            ]
          },
          "metadata": {
            "tags": []
          },
          "execution_count": 6
        }
      ]
    },
    {
      "cell_type": "code",
      "metadata": {
        "id": "SXnecP8aZOK9"
      },
      "source": [
        "def preprocess_text_lines(filename):\n",
        "  \"\"\"\n",
        "  Returns a list of dictionaries of abstract data lines.\n",
        "  \"\"\"\n",
        "  input_lines = get_lines(filename)\n",
        "  abstract_lines = \"\"\n",
        "  abstract_samples = []\n",
        "\n",
        "  for line in input_lines:\n",
        "    if line.startswith(\"###\"):\n",
        "      abstract_id = line\n",
        "      abstract_lines= \"\"\n",
        "    elif line.isspace():\n",
        "      abstract_line_split = abstract_lines.splitlines()\n",
        "\n",
        "      for abstract_line_number, abstract_line in enumerate(abstract_line_split):\n",
        "        line_data = {}\n",
        "        target_text_split = abstract_line.split('\\t')\n",
        "        line_data[\"target\"] = target_text_split[0]\n",
        "        line_data[\"text\"] = target_text_split[1].lower()\n",
        "        line_data[\"line_number\"] = abstract_line_number\n",
        "        line_data[\"total_lines\"] = len(abstract_line_split) - 1\n",
        "        abstract_samples.append(line_data)\n",
        "\n",
        "    else:\n",
        "      abstract_lines += line\n",
        "  \n",
        "  return abstract_samples\n"
      ],
      "execution_count": null,
      "outputs": []
    },
    {
      "cell_type": "code",
      "metadata": {
        "id": "2J5qISt0Ykf1"
      },
      "source": [
        "train_samples = preprocess_text_lines(data_dir+\"train.txt\")\n",
        "val_samples = preprocess_text_lines(data_dir+\"dev.txt\")\n",
        "test_samples = preprocess_text_lines(data_dir+\"test.txt\")"
      ],
      "execution_count": null,
      "outputs": []
    },
    {
      "cell_type": "code",
      "metadata": {
        "id": "Ex9ek8jjgpSy"
      },
      "source": [
        "import pandas as pd\n",
        "train_df = pd.DataFrame(train_samples)\n",
        "val_df = pd.DataFrame(val_samples)\n",
        "test_df = pd.DataFrame(test_samples)"
      ],
      "execution_count": null,
      "outputs": []
    },
    {
      "cell_type": "code",
      "metadata": {
        "id": "sJeQxhj7hmUZ"
      },
      "source": [
        "train_sentences = train_df[\"text\"].tolist()\n",
        "val_sentences = val_df[\"text\"].tolist()\n",
        "test_sentences = test_df[\"text\"].tolist()"
      ],
      "execution_count": null,
      "outputs": []
    },
    {
      "cell_type": "code",
      "metadata": {
        "colab": {
          "base_uri": "https://localhost:8080/",
          "height": 284
        },
        "id": "RRNXPVvgkqWr",
        "outputId": "2a21fad8-aaa7-49e4-c052-a248f3578b22"
      },
      "source": [
        "import matplotlib.pyplot as plt\n",
        "\n",
        "train_df.total_lines.plot.hist()"
      ],
      "execution_count": null,
      "outputs": [
        {
          "output_type": "execute_result",
          "data": {
            "text/plain": [
              "<matplotlib.axes._subplots.AxesSubplot at 0x7f6923a66c10>"
            ]
          },
          "metadata": {
            "tags": []
          },
          "execution_count": 11
        },
        {
          "output_type": "display_data",
          "data": {
            "image/png": "[encoded data removed]",
            "text/plain": [
              "<Figure size 432x288 with 1 Axes>"
            ]
          },
          "metadata": {
            "tags": [],
            "needs_background": "light"
          }
        }
      ]
    },
    {
      "cell_type": "code",
      "metadata": {
        "id": "Jg4yCWDOksyv"
      },
      "source": [
        "from sklearn.preprocessing import OneHotEncoder\n",
        "from sklearn.preprocessing import LabelEncoder\n",
        "\n",
        "one_hot_encoder = OneHotEncoder(sparse=False)\n",
        "\n",
        "train_labels_one_hot = one_hot_encoder.fit_transform(train_df['target'].to_numpy().reshape(-1, 1))\n",
        "val_labels_one_hot = one_hot_encoder.fit_transform(val_df['target'].to_numpy().reshape(-1, 1))\n",
        "test_labels_one_hot = one_hot_encoder.fit_transform(test_df['target'].to_numpy().reshape(-1, 1))\n",
        "\n",
        "label_encoder = LabelEncoder()\n",
        "\n",
        "train_labels_encoded = label_encoder.fit_transform(train_df['target'].to_numpy())\n",
        "val_labels_encoded = label_encoder.fit_transform(val_df['target'].to_numpy())\n",
        "test_labels_encoded = label_encoder.fit_transform(test_df['target'].to_numpy())\n"
      ],
      "execution_count": null,
      "outputs": []
    },
    {
      "cell_type": "code",
      "metadata": {
        "colab": {
          "base_uri": "https://localhost:8080/"
        },
        "id": "OBZ6E8Rfv4Jz",
        "outputId": "68531b68-f084-4248-bd60-c7fa1d140ad8"
      },
      "source": [
        "num_classes = len(label_encoder.classes_)\n",
        "class_names = label_encoder.classes_\n",
        "num_classes, class_names"
      ],
      "execution_count": null,
      "outputs": [
        {
          "output_type": "execute_result",
          "data": {
            "text/plain": [
              "(5, array(['BACKGROUND', 'CONCLUSIONS', 'METHODS', 'OBJECTIVE', 'RESULTS'],\n",
              "       dtype=object))"
            ]
          },
          "metadata": {
            "tags": []
          },
          "execution_count": 13
        }
      ]
    },
    {
      "cell_type": "markdown",
      "metadata": {
        "id": "LN5DTk4I0ovI"
      },
      "source": [
        "###Baseline Model: TF-IDF Multinomial Naive Bayes classifier"
      ]
    },
    {
      "cell_type": "code",
      "metadata": {
        "colab": {
          "base_uri": "https://localhost:8080/"
        },
        "id": "l4_GQYSO0vSt",
        "outputId": "09a5be8f-f48d-43ac-b0bb-1176c99648a9"
      },
      "source": [
        "from sklearn.feature_extraction.text import TfidfVectorizer\n",
        "from sklearn.naive_bayes import MultinomialNB\n",
        "from sklearn.pipeline import Pipeline\n",
        "\n",
        "model_0 = Pipeline([\n",
        "    (\"tf-idf\", TfidfVectorizer()),\n",
        "    (\"clf\", MultinomialNB())\n",
        "])\n",
        "\n",
        "model_0.fit(X=train_sentences, y=train_labels_encoded)"
      ],
      "execution_count": null,
      "outputs": [
        {
          "output_type": "execute_result",
          "data": {
            "text/plain": [
              "Pipeline(memory=None,\n",
              "         steps=[('tf-idf',\n",
              "                 TfidfVectorizer(analyzer='word', binary=False,\n",
              "                                 decode_error='strict',\n",
              "                                 dtype=<class 'numpy.float64'>,\n",
              "                                 encoding='utf-8', input='content',\n",
              "                                 lowercase=True, max_df=1.0, max_features=None,\n",
              "                                 min_df=1, ngram_range=(1, 1), norm='l2',\n",
              "                                 preprocessor=None, smooth_idf=True,\n",
              "                                 stop_words=None, strip_accents=None,\n",
              "                                 sublinear_tf=False,\n",
              "                                 token_pattern='(?u)\\\\b\\\\w\\\\w+\\\\b',\n",
              "                                 tokenizer=None, use_idf=True,\n",
              "                                 vocabulary=None)),\n",
              "                ('clf',\n",
              "                 MultinomialNB(alpha=1.0, class_prior=None, fit_prior=True))],\n",
              "         verbose=False)"
            ]
          },
          "metadata": {
            "tags": []
          },
          "execution_count": 14
        }
      ]
    },
    {
      "cell_type": "code",
      "metadata": {
        "colab": {
          "base_uri": "https://localhost:8080/"
        },
        "id": "txJZJYCB2vON",
        "outputId": "8d6947d5-91d2-4c5b-d4ca-7ee7492687cf"
      },
      "source": [
        "model_0.score(X=val_sentences, y=val_labels_encoded)"
      ],
      "execution_count": null,
      "outputs": [
        {
          "output_type": "execute_result",
          "data": {
            "text/plain": [
              "0.7218323844829869"
            ]
          },
          "metadata": {
            "tags": []
          },
          "execution_count": 15
        }
      ]
    },
    {
      "cell_type": "code",
      "metadata": {
        "colab": {
          "base_uri": "https://localhost:8080/"
        },
        "id": "x4BFH6SK29aG",
        "outputId": "c83ba000-77e5-43cf-a430-1546ced4bf46"
      },
      "source": [
        "!wget https://raw.githubusercontent.com/mrdbourke/tensorflow-deep-learning/main/extras/helper_functions.py"
      ],
      "execution_count": null,
      "outputs": [
        {
          "output_type": "stream",
          "text": [
            "--2021-08-06 00:20:31--  https://raw.githubusercontent.com/mrdbourke/tensorflow-deep-learning/main/extras/helper_functions.py\n",
            "Resolving raw.githubusercontent.com (raw.githubusercontent.com)... 185.199.108.133, 185.199.109.133, 185.199.110.133, ...\n",
            "Connecting to raw.githubusercontent.com (raw.githubusercontent.com)|185.199.108.133|:443... connected.\n",
            "HTTP request sent, awaiting response... 200 OK\n",
            "Length: 10246 (10K) [text/plain]\n",
            "Saving to: ‘helper_functions.py’\n",
            "\n",
            "\rhelper_functions.py   0%[                    ]       0  --.-KB/s               \rhelper_functions.py 100%[===================>]  10.01K  --.-KB/s    in 0s      \n",
            "\n",
            "2021-08-06 00:20:31 (93.3 MB/s) - ‘helper_functions.py’ saved [10246/10246]\n",
            "\n"
          ],
          "name": "stdout"
        }
      ]
    },
    {
      "cell_type": "code",
      "metadata": {
        "colab": {
          "base_uri": "https://localhost:8080/"
        },
        "id": "ugBXNnVD4Hv5",
        "outputId": "9dfc394a-3e0e-4823-ceab-a9499eac5cca"
      },
      "source": [
        "from helper_functions import calculate_results\n",
        "\n",
        "baseline_preds = model_0.predict(val_sentences)\n",
        "calculate_results(y_true=val_labels_encoded, y_pred=baseline_preds)"
      ],
      "execution_count": null,
      "outputs": [
        {
          "output_type": "execute_result",
          "data": {
            "text/plain": [
              "{'accuracy': 72.1832384482987,\n",
              " 'f1': 0.6989250353450294,\n",
              " 'precision': 0.7186466952323352,\n",
              " 'recall': 0.7218323844829869}"
            ]
          },
          "metadata": {
            "tags": []
          },
          "execution_count": 17
        }
      ]
    },
    {
      "cell_type": "code",
      "metadata": {
        "id": "yFN3Zhxr40Ay"
      },
      "source": [
        "import numpy as np\n",
        "import tensorflow as tf\n",
        "from tensorflow.keras import layers"
      ],
      "execution_count": null,
      "outputs": []
    },
    {
      "cell_type": "code",
      "metadata": {
        "colab": {
          "base_uri": "https://localhost:8080/"
        },
        "id": "SiJoS4OaI451",
        "outputId": "72bf7cf2-7394-4f11-ebc7-eb60de620860"
      },
      "source": [
        "sentence_len = [len(sentence.split()) for sentence in train_sentences]\n",
        "sentence_avg = np.mean(sentence_len)\n",
        "sentence_avg"
      ],
      "execution_count": null,
      "outputs": [
        {
          "output_type": "execute_result",
          "data": {
            "text/plain": [
              "26.338269273494777"
            ]
          },
          "metadata": {
            "tags": []
          },
          "execution_count": 19
        }
      ]
    },
    {
      "cell_type": "code",
      "metadata": {
        "colab": {
          "base_uri": "https://localhost:8080/",
          "height": 401
        },
        "id": "Aa6QBziUJW0E",
        "outputId": "0c0a9d21-4a06-4cbf-f378-13ccfbf84e9e"
      },
      "source": [
        "plt.hist(sentence_len, bins=20)"
      ],
      "execution_count": null,
      "outputs": [
        {
          "output_type": "execute_result",
          "data": {
            "text/plain": [
              "(array([4.2075e+04, 8.3771e+04, 3.6877e+04, 1.0945e+04, 3.9310e+03,\n",
              "        1.4450e+03, 5.6000e+02, 2.2600e+02, 1.0100e+02, 4.5000e+01,\n",
              "        2.0000e+01, 1.2000e+01, 9.0000e+00, 1.0000e+01, 6.0000e+00,\n",
              "        2.0000e+00, 3.0000e+00, 0.0000e+00, 1.0000e+00, 1.0000e+00]),\n",
              " array([  1.  ,  15.75,  30.5 ,  45.25,  60.  ,  74.75,  89.5 , 104.25,\n",
              "        119.  , 133.75, 148.5 , 163.25, 178.  , 192.75, 207.5 , 222.25,\n",
              "        237.  , 251.75, 266.5 , 281.25, 296.  ]),\n",
              " <a list of 20 Patch objects>)"
            ]
          },
          "metadata": {
            "tags": []
          },
          "execution_count": 20
        },
        {
          "output_type": "display_data",
          "data": {
            "image/png": "[encoded data removed]",
            "text/plain": [
              "<Figure size 432x288 with 1 Axes>"
            ]
          },
          "metadata": {
            "tags": [],
            "needs_background": "light"
          }
        }
      ]
    },
    {
      "cell_type": "code",
      "metadata": {
        "colab": {
          "base_uri": "https://localhost:8080/"
        },
        "id": "1NnXtg5dKFPx",
        "outputId": "c3a854f1-5150-4700-e59a-4f6641da577f"
      },
      "source": [
        "output_seq_len = int(np.percentile(sentence_len, 95))\n",
        "max_tokens = 68000\n",
        "output_seq_len"
      ],
      "execution_count": null,
      "outputs": [
        {
          "output_type": "execute_result",
          "data": {
            "text/plain": [
              "55"
            ]
          },
          "metadata": {
            "tags": []
          },
          "execution_count": 21
        }
      ]
    },
    {
      "cell_type": "code",
      "metadata": {
        "id": "NEGdQBYLKpOL"
      },
      "source": [
        "text_vectorizer = tf.keras.layers.experimental.preprocessing.TextVectorization(\n",
        "    max_tokens = max_tokens,\n",
        "    output_sequence_length = output_seq_len,\n",
        "    pad_to_max_tokens = True\n",
        ")"
      ],
      "execution_count": null,
      "outputs": []
    },
    {
      "cell_type": "code",
      "metadata": {
        "id": "OYIikLriQvu6"
      },
      "source": [
        "text_vectorizer.adapt(train_sentences)"
      ],
      "execution_count": null,
      "outputs": []
    },
    {
      "cell_type": "code",
      "metadata": {
        "colab": {
          "base_uri": "https://localhost:8080/"
        },
        "id": "7uLq1_8zSccR",
        "outputId": "b40ead07-4952-495d-8076-812a5cf4012b"
      },
      "source": [
        "rct_20k_length_vocab = len(text_vectorizer.get_vocabulary())\n",
        "rct_20k_length_vocab"
      ],
      "execution_count": null,
      "outputs": [
        {
          "output_type": "execute_result",
          "data": {
            "text/plain": [
              "64841"
            ]
          },
          "metadata": {
            "tags": []
          },
          "execution_count": 24
        }
      ]
    },
    {
      "cell_type": "code",
      "metadata": {
        "id": "M-t2ao3cTx-L"
      },
      "source": [
        "token_embedding = layers.Embedding(\n",
        "    input_dim = rct_20k_length_vocab,\n",
        "    output_dim = 128,\n",
        "    mask_zero=True,\n",
        "    name=\"token_embedding\")"
      ],
      "execution_count": null,
      "outputs": []
    },
    {
      "cell_type": "code",
      "metadata": {
        "id": "RinkK3sSVoVg"
      },
      "source": [
        "train_dataset = tf.data.Dataset.from_tensor_slices((train_sentences, train_labels_one_hot))\n",
        "val_dataset = tf.data.Dataset.from_tensor_slices((val_sentences, val_labels_one_hot))\n",
        "test_dataset = tf.data.Dataset.from_tensor_slices((test_sentences, test_labels_one_hot))"
      ],
      "execution_count": null,
      "outputs": []
    },
    {
      "cell_type": "code",
      "metadata": {
        "id": "dE-yrUfLWv7E"
      },
      "source": [
        "train_dataset = train_dataset.batch(32).prefetch(tf.data.AUTOTUNE)\n",
        "val_dataset = val_dataset.batch(32).prefetch(tf.data.AUTOTUNE)\n",
        "test_dataset = test_dataset.batch(32).prefetch(tf.data.AUTOTUNE)"
      ],
      "execution_count": null,
      "outputs": []
    },
    {
      "cell_type": "code",
      "metadata": {
        "colab": {
          "base_uri": "https://localhost:8080/"
        },
        "id": "CbStYg3BWzFD",
        "outputId": "47aa5442-b564-41d4-d33a-a91884a9bed8"
      },
      "source": [
        "test_dataset"
      ],
      "execution_count": null,
      "outputs": [
        {
          "output_type": "execute_result",
          "data": {
            "text/plain": [
              "<PrefetchDataset shapes: ((None,), (None, 5)), types: (tf.string, tf.float64)>"
            ]
          },
          "metadata": {
            "tags": []
          },
          "execution_count": 28
        }
      ]
    },
    {
      "cell_type": "markdown",
      "metadata": {
        "id": "eaIWdzzQnmdD"
      },
      "source": [
        "###Model 1: Conv1D with token embeddings"
      ]
    },
    {
      "cell_type": "code",
      "metadata": {
        "id": "rssJfmHPYKHY"
      },
      "source": [
        "inputs = layers.Input(shape=(1,), dtype=tf.string)\n",
        "text_vectors = text_vectorizer(inputs)\n",
        "token_embeddings = token_embedding(text_vectors)\n",
        "x = layers.Conv1D(64, kernel_size=5, padding=\"same\", activation=\"relu\")(token_embeddings)\n",
        "x = layers.GlobalAveragePooling1D()(x)\n",
        "outputs = layers.Dense(5, activation=\"softmax\")(x)\n",
        "model_1 = tf.keras.Model(inputs, outputs)\n",
        "\n",
        "model_1.compile(loss=\"categorical_crossentropy\",\n",
        "                optimizer=tf.keras.optimizers.Adam(),\n",
        "                metrics=['accuracy'])"
      ],
      "execution_count": null,
      "outputs": []
    },
    {
      "cell_type": "code",
      "metadata": {
        "colab": {
          "base_uri": "https://localhost:8080/"
        },
        "id": "kiJVWGzzpW2n",
        "outputId": "e6ed5e6b-24a1-4597-ed5d-384bd2e82d9e"
      },
      "source": [
        "model_1.summary()"
      ],
      "execution_count": null,
      "outputs": [
        {
          "output_type": "stream",
          "text": [
            "Model: \"model\"\n",
            "_________________________________________________________________\n",
            "Layer (type)                 Output Shape              Param #   \n",
            "=================================================================\n",
            "input_1 (InputLayer)         [(None, 1)]               0         \n",
            "_________________________________________________________________\n",
            "text_vectorization (TextVect (None, 55)                0         \n",
            "_________________________________________________________________\n",
            "token_embedding (Embedding)  (None, 55, 128)           8299648   \n",
            "_________________________________________________________________\n",
            "conv1d (Conv1D)              (None, 55, 64)            41024     \n",
            "_________________________________________________________________\n",
            "global_average_pooling1d (Gl (None, 64)                0         \n",
            "_________________________________________________________________\n",
            "dense (Dense)                (None, 5)                 325       \n",
            "=================================================================\n",
            "Total params: 8,340,997\n",
            "Trainable params: 8,340,997\n",
            "Non-trainable params: 0\n",
            "_________________________________________________________________\n"
          ],
          "name": "stdout"
        }
      ]
    },
    {
      "cell_type": "code",
      "metadata": {
        "colab": {
          "base_uri": "https://localhost:8080/"
        },
        "id": "mRdeDf5fphtq",
        "outputId": "b4b33071-83d3-4988-81f4-bb928930b00c"
      },
      "source": [
        "model_1.fit(train_dataset,\n",
        "            steps_per_epoch=int(0.1*len(train_dataset)),\n",
        "            epochs=10,\n",
        "            validation_data=val_dataset,\n",
        "            validation_steps=int(0.1*len(val_dataset)))"
      ],
      "execution_count": null,
      "outputs": [
        {
          "output_type": "stream",
          "text": [
            "Epoch 1/10\n",
            "562/562 [==============================] - 78s 83ms/step - loss: 0.9099 - accuracy: 0.6406 - val_loss: 0.6828 - val_accuracy: 0.7424\n",
            "Epoch 2/10\n",
            "562/562 [==============================] - 46s 83ms/step - loss: 0.6583 - accuracy: 0.7544 - val_loss: 0.6279 - val_accuracy: 0.7726\n",
            "Epoch 3/10\n",
            "562/562 [==============================] - 46s 82ms/step - loss: 0.6164 - accuracy: 0.7732 - val_loss: 0.5932 - val_accuracy: 0.7859\n",
            "Epoch 4/10\n",
            "562/562 [==============================] - 46s 82ms/step - loss: 0.5876 - accuracy: 0.7882 - val_loss: 0.5750 - val_accuracy: 0.7896\n",
            "Epoch 5/10\n",
            "562/562 [==============================] - 45s 81ms/step - loss: 0.5896 - accuracy: 0.7923 - val_loss: 0.5577 - val_accuracy: 0.7982\n",
            "Epoch 6/10\n",
            "562/562 [==============================] - 46s 82ms/step - loss: 0.5796 - accuracy: 0.7914 - val_loss: 0.5566 - val_accuracy: 0.7989\n",
            "Epoch 7/10\n",
            "562/562 [==============================] - 46s 82ms/step - loss: 0.5574 - accuracy: 0.8002 - val_loss: 0.5420 - val_accuracy: 0.8052\n",
            "Epoch 8/10\n",
            "562/562 [==============================] - 46s 81ms/step - loss: 0.5388 - accuracy: 0.8119 - val_loss: 0.5280 - val_accuracy: 0.8132\n",
            "Epoch 9/10\n",
            "562/562 [==============================] - 46s 82ms/step - loss: 0.5402 - accuracy: 0.8109 - val_loss: 0.5504 - val_accuracy: 0.7939\n",
            "Epoch 10/10\n",
            "562/562 [==============================] - 47s 83ms/step - loss: 0.5423 - accuracy: 0.8078 - val_loss: 0.5289 - val_accuracy: 0.8075\n"
          ],
          "name": "stdout"
        },
        {
          "output_type": "execute_result",
          "data": {
            "text/plain": [
              "<tensorflow.python.keras.callbacks.History at 0x7f68dae4e510>"
            ]
          },
          "metadata": {
            "tags": []
          },
          "execution_count": 31
        }
      ]
    },
    {
      "cell_type": "code",
      "metadata": {
        "colab": {
          "base_uri": "https://localhost:8080/"
        },
        "id": "IfXt4cyBqv_E",
        "outputId": "4cd8b29b-87fb-429c-c0d1-dfeb5b37d744"
      },
      "source": [
        "model_1.evaluate(val_dataset)"
      ],
      "execution_count": null,
      "outputs": [
        {
          "output_type": "stream",
          "text": [
            "945/945 [==============================] - 3s 4ms/step - loss: 0.5246 - accuracy: 0.8125\n"
          ],
          "name": "stdout"
        },
        {
          "output_type": "execute_result",
          "data": {
            "text/plain": [
              "[0.5246255397796631, 0.8125247955322266]"
            ]
          },
          "metadata": {
            "tags": []
          },
          "execution_count": 32
        }
      ]
    },
    {
      "cell_type": "code",
      "metadata": {
        "colab": {
          "base_uri": "https://localhost:8080/"
        },
        "id": "UemdlMuBvjbh",
        "outputId": "d4f241bb-6b11-4b96-a769-28644e5eeb66"
      },
      "source": [
        "model_1_pred_probs = model_1.predict(val_dataset)\n",
        "model_1_pred_probs"
      ],
      "execution_count": null,
      "outputs": [
        {
          "output_type": "execute_result",
          "data": {
            "text/plain": [
              "array([[5.7179642e-01, 9.5454961e-02, 8.6918235e-02, 2.0082892e-01,\n",
              "        4.5001473e-02],\n",
              "       [5.0469398e-01, 2.3665072e-01, 9.0620639e-03, 2.2512014e-01,\n",
              "        2.4473045e-02],\n",
              "       [1.3838147e-01, 3.9287549e-03, 8.9780096e-04, 8.5674983e-01,\n",
              "        4.2034404e-05],\n",
              "       ...,\n",
              "       [6.3109328e-06, 2.3149415e-04, 2.6819485e-03, 7.9825313e-06,\n",
              "        9.9707222e-01],\n",
              "       [9.7457394e-02, 4.9465886e-01, 1.4265130e-01, 6.6027343e-02,\n",
              "        1.9920512e-01],\n",
              "       [2.9228536e-02, 9.5235968e-01, 1.2841697e-02, 1.2212555e-03,\n",
              "        4.3487563e-03]], dtype=float32)"
            ]
          },
          "metadata": {
            "tags": []
          },
          "execution_count": 33
        }
      ]
    },
    {
      "cell_type": "code",
      "metadata": {
        "colab": {
          "base_uri": "https://localhost:8080/"
        },
        "id": "JG9Oiu3KyQ3t",
        "outputId": "c2739d3e-fda8-4244-9eb4-8e897e191b76"
      },
      "source": [
        "model_1_preds = tf.argmax(model_1_pred_probs, axis=1)\n",
        "model_1_preds"
      ],
      "execution_count": null,
      "outputs": [
        {
          "output_type": "execute_result",
          "data": {
            "text/plain": [
              "<tf.Tensor: shape=(30212,), dtype=int64, numpy=array([0, 0, 3, ..., 4, 1, 1])>"
            ]
          },
          "metadata": {
            "tags": []
          },
          "execution_count": 34
        }
      ]
    },
    {
      "cell_type": "code",
      "metadata": {
        "colab": {
          "base_uri": "https://localhost:8080/"
        },
        "id": "zqmTi-HzyiRg",
        "outputId": "cb9cb121-9309-404c-82ca-1e29743c261b"
      },
      "source": [
        "model_1_results = calculate_results(y_true=model_1_preds,\n",
        "                                    y_pred=val_labels_encoded)\n",
        "model_1_results"
      ],
      "execution_count": null,
      "outputs": [
        {
          "output_type": "execute_result",
          "data": {
            "text/plain": [
              "{'accuracy': 81.25248245730174,\n",
              " 'f1': 0.8157257290656176,\n",
              " 'precision': 0.8209954095777399,\n",
              " 'recall': 0.8125248245730173}"
            ]
          },
          "metadata": {
            "tags": []
          },
          "execution_count": 35
        }
      ]
    },
    {
      "cell_type": "markdown",
      "metadata": {
        "id": "cpSW1pdK7F-S"
      },
      "source": [
        "###Model 2: Feature Extraction with TF Hub pretrained token embeddings (Universal Sentence Encoder)"
      ]
    },
    {
      "cell_type": "code",
      "metadata": {
        "id": "FYgx4L_uy9C4"
      },
      "source": [
        "import tensorflow_hub as hub\n",
        "\n",
        "tf_hub_embedding = hub.KerasLayer(\"https://tfhub.dev/google/universal-sentence-encoder/4\",\n",
        "                                   trainable=False,\n",
        "                                   name=\"universal_sentence_encoder\")"
      ],
      "execution_count": null,
      "outputs": []
    },
    {
      "cell_type": "code",
      "metadata": {
        "id": "bfnxMjy7CL0c"
      },
      "source": [
        "inputs = layers.Input(shape=[], dtype=tf.string)\n",
        "token_embeddings = tf_hub_embedding(inputs)\n",
        "x = layers.Dense(128, activation=\"relu\")(token_embeddings)\n",
        "outputs = layers.Dense(5, activation=\"softmax\")(x)\n",
        "model_2 = tf.keras.Model(inputs, outputs, name=\"model_2\")\n",
        "\n",
        "model_2.compile(loss=\"categorical_crossentropy\",\n",
        "                optimizer=tf.keras.optimizers.Adam(),\n",
        "                metrics=['accuracy'])"
      ],
      "execution_count": null,
      "outputs": []
    },
    {
      "cell_type": "code",
      "metadata": {
        "colab": {
          "base_uri": "https://localhost:8080/"
        },
        "id": "dKo3DytpDS3J",
        "outputId": "49404a09-7749-4ecf-82ac-732c06217ced"
      },
      "source": [
        "model_2.summary()"
      ],
      "execution_count": null,
      "outputs": [
        {
          "output_type": "stream",
          "text": [
            "Model: \"model_2\"\n",
            "_________________________________________________________________\n",
            "Layer (type)                 Output Shape              Param #   \n",
            "=================================================================\n",
            "input_2 (InputLayer)         [(None,)]                 0         \n",
            "_________________________________________________________________\n",
            "universal_sentence_encoder ( (None, 512)               256797824 \n",
            "_________________________________________________________________\n",
            "dense_1 (Dense)              (None, 128)               65664     \n",
            "_________________________________________________________________\n",
            "dense_2 (Dense)              (None, 5)                 645       \n",
            "=================================================================\n",
            "Total params: 256,864,133\n",
            "Trainable params: 66,309\n",
            "Non-trainable params: 256,797,824\n",
            "_________________________________________________________________\n"
          ],
          "name": "stdout"
        }
      ]
    },
    {
      "cell_type": "code",
      "metadata": {
        "colab": {
          "base_uri": "https://localhost:8080/"
        },
        "id": "evfMFNxLFIpu",
        "outputId": "17d78e67-5378-4bb5-f995-1596ce5b847c"
      },
      "source": [
        "model_2.fit(train_dataset,\n",
        "            steps_per_epoch=int(0.1*len(train_dataset)),\n",
        "            epochs=10,\n",
        "            validation_data=val_dataset,\n",
        "            validation_steps=int(0.1*len(val_dataset)))"
      ],
      "execution_count": null,
      "outputs": [
        {
          "output_type": "stream",
          "text": [
            "Epoch 1/10\n",
            "562/562 [==============================] - 8s 12ms/step - loss: 0.9181 - accuracy: 0.6511 - val_loss: 0.7950 - val_accuracy: 0.6868\n",
            "Epoch 2/10\n",
            "562/562 [==============================] - 6s 11ms/step - loss: 0.7669 - accuracy: 0.7034 - val_loss: 0.7504 - val_accuracy: 0.7081\n",
            "Epoch 3/10\n",
            "562/562 [==============================] - 6s 11ms/step - loss: 0.7491 - accuracy: 0.7135 - val_loss: 0.7334 - val_accuracy: 0.7174\n",
            "Epoch 4/10\n",
            "562/562 [==============================] - 6s 11ms/step - loss: 0.7154 - accuracy: 0.7266 - val_loss: 0.7060 - val_accuracy: 0.7281\n",
            "Epoch 5/10\n",
            "562/562 [==============================] - 6s 11ms/step - loss: 0.7235 - accuracy: 0.7219 - val_loss: 0.6860 - val_accuracy: 0.7380\n",
            "Epoch 6/10\n",
            "562/562 [==============================] - 6s 11ms/step - loss: 0.7157 - accuracy: 0.7259 - val_loss: 0.6799 - val_accuracy: 0.7367\n",
            "Epoch 7/10\n",
            "562/562 [==============================] - 6s 12ms/step - loss: 0.6834 - accuracy: 0.7410 - val_loss: 0.6633 - val_accuracy: 0.7507\n",
            "Epoch 8/10\n",
            "562/562 [==============================] - 7s 12ms/step - loss: 0.6737 - accuracy: 0.7451 - val_loss: 0.6513 - val_accuracy: 0.7473\n",
            "Epoch 9/10\n",
            "562/562 [==============================] - 7s 12ms/step - loss: 0.6717 - accuracy: 0.7433 - val_loss: 0.6528 - val_accuracy: 0.7487\n",
            "Epoch 10/10\n",
            "562/562 [==============================] - 7s 12ms/step - loss: 0.6672 - accuracy: 0.7468 - val_loss: 0.6494 - val_accuracy: 0.7550\n"
          ],
          "name": "stdout"
        },
        {
          "output_type": "execute_result",
          "data": {
            "text/plain": [
              "<tensorflow.python.keras.callbacks.History at 0x7f68727e8410>"
            ]
          },
          "metadata": {
            "tags": []
          },
          "execution_count": 39
        }
      ]
    },
    {
      "cell_type": "code",
      "metadata": {
        "colab": {
          "base_uri": "https://localhost:8080/"
        },
        "id": "kaW6JpcuFkh0",
        "outputId": "a8d43414-ac20-4178-d965-1e01f3ba2bd3"
      },
      "source": [
        "model_2.evaluate(val_dataset)"
      ],
      "execution_count": null,
      "outputs": [
        {
          "output_type": "stream",
          "text": [
            "945/945 [==============================] - 9s 9ms/step - loss: 0.6540 - accuracy: 0.7507\n"
          ],
          "name": "stdout"
        },
        {
          "output_type": "execute_result",
          "data": {
            "text/plain": [
              "[0.6539539694786072, 0.7506619691848755]"
            ]
          },
          "metadata": {
            "tags": []
          },
          "execution_count": 40
        }
      ]
    },
    {
      "cell_type": "code",
      "metadata": {
        "colab": {
          "base_uri": "https://localhost:8080/"
        },
        "id": "b2X3gqTpIEzf",
        "outputId": "9e2c9105-12cc-4757-d49d-01ed444a13a6"
      },
      "source": [
        "model_2_pred_probs = model_2.predict(val_dataset)\n",
        "model_2_pred_probs"
      ],
      "execution_count": null,
      "outputs": [
        {
          "output_type": "execute_result",
          "data": {
            "text/plain": [
              "array([[4.08803970e-01, 4.72639978e-01, 4.76223999e-04, 1.10092513e-01,\n",
              "        7.98732042e-03],\n",
              "       [3.59148145e-01, 5.67304254e-01, 1.60236633e-03, 7.11194277e-02,\n",
              "        8.25712166e-04],\n",
              "       [4.52477843e-01, 4.25128229e-02, 2.25155726e-02, 4.42514032e-01,\n",
              "        3.99796963e-02],\n",
              "       ...,\n",
              "       [1.06138072e-03, 7.57473812e-04, 1.58733409e-02, 1.79734343e-04,\n",
              "        9.82128024e-01],\n",
              "       [6.58525992e-03, 5.99818937e-02, 2.05958158e-01, 1.80303503e-03,\n",
              "        7.25671649e-01],\n",
              "       [5.69286570e-02, 8.33732247e-01, 1.01516135e-01, 9.64775507e-04,\n",
              "        6.85825804e-03]], dtype=float32)"
            ]
          },
          "metadata": {
            "tags": []
          },
          "execution_count": 41
        }
      ]
    },
    {
      "cell_type": "code",
      "metadata": {
        "colab": {
          "base_uri": "https://localhost:8080/"
        },
        "id": "xNvGS4CeI4Zt",
        "outputId": "f9269714-2622-490a-c3be-58b053f99dba"
      },
      "source": [
        "model_2_preds = tf.argmax(model_2_pred_probs, axis=1)\n",
        "model_2_preds"
      ],
      "execution_count": null,
      "outputs": [
        {
          "output_type": "execute_result",
          "data": {
            "text/plain": [
              "<tf.Tensor: shape=(30212,), dtype=int64, numpy=array([1, 1, 0, ..., 4, 4, 1])>"
            ]
          },
          "metadata": {
            "tags": []
          },
          "execution_count": 42
        }
      ]
    },
    {
      "cell_type": "code",
      "metadata": {
        "colab": {
          "base_uri": "https://localhost:8080/"
        },
        "id": "ve2elqhIJAzy",
        "outputId": "8ad4bcdf-1bc4-4e1d-ac6b-e5c19b41ef58"
      },
      "source": [
        "model_2_results = calculate_results(y_true=val_labels_encoded,\n",
        "                                    y_pred=model_2_preds)\n",
        "model_2_results"
      ],
      "execution_count": null,
      "outputs": [
        {
          "output_type": "execute_result",
          "data": {
            "text/plain": [
              "{'accuracy': 75.06619886137959,\n",
              " 'f1': 0.7462018424927349,\n",
              " 'precision': 0.7462317345760753,\n",
              " 'recall': 0.7506619886137958}"
            ]
          },
          "metadata": {
            "tags": []
          },
          "execution_count": 43
        }
      ]
    },
    {
      "cell_type": "markdown",
      "metadata": {
        "id": "vbgHYRh1Odhr"
      },
      "source": [
        "###Model 3: Conv1D with character-level embeddings"
      ]
    },
    {
      "cell_type": "code",
      "metadata": {
        "id": "krac0DaeOmmA"
      },
      "source": [
        "def split_chars(sentence):\n",
        "  return \" \".join(list(sentence))"
      ],
      "execution_count": null,
      "outputs": []
    },
    {
      "cell_type": "code",
      "metadata": {
        "id": "EVN2k6LQPI2s"
      },
      "source": [
        "train_chars = [split_chars(sentence) for sentence in train_sentences]\n",
        "val_chars = [split_chars(sentence) for sentence in val_sentences]\n",
        "test_chars = [split_chars(sentence) for sentence in test_sentences]"
      ],
      "execution_count": null,
      "outputs": []
    },
    {
      "cell_type": "code",
      "metadata": {
        "colab": {
          "base_uri": "https://localhost:8080/"
        },
        "id": "oFXP283uPuHl",
        "outputId": "2bf78085-cd72-4631-b544-558f3ceb14a7"
      },
      "source": [
        "sentence_char_len = [len(sentence) for sentence in train_sentences]\n",
        "sentence_char_avg = np.mean(sentence_char_len)\n",
        "sentence_char_avg"
      ],
      "execution_count": null,
      "outputs": [
        {
          "output_type": "execute_result",
          "data": {
            "text/plain": [
              "149.3662574983337"
            ]
          },
          "metadata": {
            "tags": []
          },
          "execution_count": 46
        }
      ]
    },
    {
      "cell_type": "code",
      "metadata": {
        "colab": {
          "base_uri": "https://localhost:8080/",
          "height": 435
        },
        "id": "ty3tLi8rPv1y",
        "outputId": "d851cea5-f099-4916-88a4-1b2533c29f78"
      },
      "source": [
        "plt.hist(sentence_char_len, bins=20)"
      ],
      "execution_count": null,
      "outputs": [
        {
          "output_type": "execute_result",
          "data": {
            "text/plain": [
              "(array([2.2108e+04, 7.0583e+04, 5.3952e+04, 2.2391e+04, 7.4540e+03,\n",
              "        2.2350e+03, 8.0200e+02, 2.8700e+02, 1.1800e+02, 4.9000e+01,\n",
              "        2.9000e+01, 1.3000e+01, 8.0000e+00, 5.0000e+00, 1.0000e+00,\n",
              "        2.0000e+00, 1.0000e+00, 1.0000e+00, 0.0000e+00, 1.0000e+00]),\n",
              " array([1.00000e+00, 7.02500e+01, 1.39500e+02, 2.08750e+02, 2.78000e+02,\n",
              "        3.47250e+02, 4.16500e+02, 4.85750e+02, 5.55000e+02, 6.24250e+02,\n",
              "        6.93500e+02, 7.62750e+02, 8.32000e+02, 9.01250e+02, 9.70500e+02,\n",
              "        1.03975e+03, 1.10900e+03, 1.17825e+03, 1.24750e+03, 1.31675e+03,\n",
              "        1.38600e+03]),\n",
              " <a list of 20 Patch objects>)"
            ]
          },
          "metadata": {
            "tags": []
          },
          "execution_count": 47
        },
        {
          "output_type": "display_data",
          "data": {
            "image/png": "[encoded data removed]",
            "text/plain": [
              "<Figure size 432x288 with 1 Axes>"
            ]
          },
          "metadata": {
            "tags": [],
            "needs_background": "light"
          }
        }
      ]
    },
    {
      "cell_type": "code",
      "metadata": {
        "colab": {
          "base_uri": "https://localhost:8080/"
        },
        "id": "7oLxs5V3RAm-",
        "outputId": "2a66dd5f-9049-4e5c-c520-0f000de19910"
      },
      "source": [
        "output_seq_char_len = int(np.percentile(sentence_char_len, 95))\n",
        "output_seq_char_len"
      ],
      "execution_count": null,
      "outputs": [
        {
          "output_type": "execute_result",
          "data": {
            "text/plain": [
              "290"
            ]
          },
          "metadata": {
            "tags": []
          },
          "execution_count": 48
        }
      ]
    },
    {
      "cell_type": "code",
      "metadata": {
        "colab": {
          "base_uri": "https://localhost:8080/"
        },
        "id": "sRZX5rafRHsC",
        "outputId": "729bb352-07ca-4de2-b9a2-3bce1b41dd24"
      },
      "source": [
        "import string\n",
        "alphabets = string.ascii_lowercase + string.digits + string.punctuation\n",
        "max_char_tokens = len(alphabets) + 2\n",
        "max_char_tokens"
      ],
      "execution_count": null,
      "outputs": [
        {
          "output_type": "execute_result",
          "data": {
            "text/plain": [
              "70"
            ]
          },
          "metadata": {
            "tags": []
          },
          "execution_count": 49
        }
      ]
    },
    {
      "cell_type": "code",
      "metadata": {
        "id": "2anQlOmkUSql"
      },
      "source": [
        "char_vectorizer = tf.keras.layers.experimental.preprocessing.TextVectorization(\n",
        "                  max_tokens=max_char_tokens,\n",
        "                  output_sequence_length=output_seq_char_len, \n",
        "                  pad_to_max_tokens=True, \n",
        "                  name=\"char_vectorizer\")"
      ],
      "execution_count": null,
      "outputs": []
    },
    {
      "cell_type": "code",
      "metadata": {
        "id": "-MpuCPTBVxj6"
      },
      "source": [
        "char_vectorizer.adapt(train_chars)"
      ],
      "execution_count": null,
      "outputs": []
    },
    {
      "cell_type": "code",
      "metadata": {
        "id": "oGG3nV6YbkNo"
      },
      "source": [
        "char_vocab = char_vectorizer.get_vocabulary()"
      ],
      "execution_count": null,
      "outputs": []
    },
    {
      "cell_type": "code",
      "metadata": {
        "id": "qoC0-FBNXlyB"
      },
      "source": [
        "char_embedding = tf.keras.layers.Embedding(\n",
        "                   input_dim=len(char_vocab), \n",
        "                   output_dim=25, \n",
        "                   mask_zero=True,\n",
        "                   name=\"char_embedding\")"
      ],
      "execution_count": null,
      "outputs": []
    },
    {
      "cell_type": "code",
      "metadata": {
        "colab": {
          "base_uri": "https://localhost:8080/"
        },
        "id": "aOR4PkbRb7OB",
        "outputId": "41b4dd15-0bf4-4372-8940-5735a3fea73f"
      },
      "source": [
        "import random\n",
        "char_embedding(char_vectorizer([random.choice(train_chars)]))"
      ],
      "execution_count": null,
      "outputs": [
        {
          "output_type": "execute_result",
          "data": {
            "text/plain": [
              "<tf.Tensor: shape=(1, 290, 25), dtype=float32, numpy=\n",
              "array([[[ 0.03478629, -0.04977624,  0.00292454, ..., -0.03235443,\n",
              "         -0.00898726,  0.0047344 ],\n",
              "        [-0.01528745, -0.00857556, -0.01811093, ..., -0.00418675,\n",
              "          0.00223818,  0.04403022],\n",
              "        [-0.01977626, -0.0340328 , -0.01893659, ..., -0.04481373,\n",
              "          0.00700118, -0.04042305],\n",
              "        ...,\n",
              "        [-0.00171211, -0.03282445, -0.01847491, ...,  0.03533656,\n",
              "         -0.04384211,  0.04447356],\n",
              "        [-0.00171211, -0.03282445, -0.01847491, ...,  0.03533656,\n",
              "         -0.04384211,  0.04447356],\n",
              "        [-0.00171211, -0.03282445, -0.01847491, ...,  0.03533656,\n",
              "         -0.04384211,  0.04447356]]], dtype=float32)>"
            ]
          },
          "metadata": {
            "tags": []
          },
          "execution_count": 54
        }
      ]
    },
    {
      "cell_type": "code",
      "metadata": {
        "colab": {
          "base_uri": "https://localhost:8080/"
        },
        "id": "GTa02AKIcKVz",
        "outputId": "87a945fa-d7ee-49b4-9d65-dc7c78bb5524"
      },
      "source": [
        "inputs = layers.Input(shape=(1,), dtype=tf.string)\n",
        "char_vector = char_vectorizer(inputs)\n",
        "char_embeddings = char_embedding(char_vector)\n",
        "x = layers.Conv1D(64, kernel_size=5, padding=\"same\", activation=\"relu\")(char_embeddings)\n",
        "x = layers.GlobalMaxPool1D()(x)\n",
        "outputs = layers.Dense(5, activation=\"softmax\")(x)\n",
        "model_3 = tf.keras.Model(inputs, outputs, name=\"model_3\")\n",
        "\n",
        "model_3.compile(loss=\"categorical_crossentropy\",\n",
        "                optimizer=tf.keras.optimizers.Adam(),\n",
        "                metrics=['accuracy'])\n",
        "\n",
        "model_3.summary()"
      ],
      "execution_count": null,
      "outputs": [
        {
          "output_type": "stream",
          "text": [
            "Model: \"model_3\"\n",
            "_________________________________________________________________\n",
            "Layer (type)                 Output Shape              Param #   \n",
            "=================================================================\n",
            "input_3 (InputLayer)         [(None, 1)]               0         \n",
            "_________________________________________________________________\n",
            "char_vectorizer (TextVectori (None, 290)               0         \n",
            "_________________________________________________________________\n",
            "char_embedding (Embedding)   (None, 290, 25)           700       \n",
            "_________________________________________________________________\n",
            "conv1d_1 (Conv1D)            (None, 290, 64)           8064      \n",
            "_________________________________________________________________\n",
            "global_max_pooling1d (Global (None, 64)                0         \n",
            "_________________________________________________________________\n",
            "dense_3 (Dense)              (None, 5)                 325       \n",
            "=================================================================\n",
            "Total params: 9,089\n",
            "Trainable params: 9,089\n",
            "Non-trainable params: 0\n",
            "_________________________________________________________________\n"
          ],
          "name": "stdout"
        }
      ]
    },
    {
      "cell_type": "code",
      "metadata": {
        "id": "KlHXXLfHem3B"
      },
      "source": [
        "train_char_dataset = tf.data.Dataset.from_tensor_slices((train_chars, train_labels_one_hot)).batch(32).prefetch(tf.data.AUTOTUNE)\n",
        "val_char_dataset = tf.data.Dataset.from_tensor_slices((val_chars, val_labels_one_hot)).batch(32).prefetch(tf.data.AUTOTUNE)\n",
        "test_char_dataset = tf.data.Dataset.from_tensor_slices((test_chars, test_labels_one_hot)).batch(32).prefetch(tf.data.AUTOTUNE)"
      ],
      "execution_count": null,
      "outputs": []
    },
    {
      "cell_type": "code",
      "metadata": {
        "colab": {
          "base_uri": "https://localhost:8080/"
        },
        "id": "hdqOfUq1fq8T",
        "outputId": "2b1294e7-c0a4-4aeb-c7ef-577b7a9545ff"
      },
      "source": [
        "train_char_dataset"
      ],
      "execution_count": null,
      "outputs": [
        {
          "output_type": "execute_result",
          "data": {
            "text/plain": [
              "<PrefetchDataset shapes: ((None,), (None, 5)), types: (tf.string, tf.float64)>"
            ]
          },
          "metadata": {
            "tags": []
          },
          "execution_count": 57
        }
      ]
    },
    {
      "cell_type": "code",
      "metadata": {
        "colab": {
          "base_uri": "https://localhost:8080/"
        },
        "id": "j5T_mMbCfxpA",
        "outputId": "4d98dcaa-8fb1-417e-e9f7-42f68e048f20"
      },
      "source": [
        "model_3.fit(train_char_dataset,\n",
        "            steps_per_epoch=int(0.1*len(train_char_dataset)),\n",
        "            epochs=10,\n",
        "            validation_data=val_char_dataset,\n",
        "            validation_steps=int(0.1*len(val_char_dataset)))"
      ],
      "execution_count": null,
      "outputs": [
        {
          "output_type": "stream",
          "text": [
            "Epoch 1/10\n",
            "562/562 [==============================] - 4s 6ms/step - loss: 1.2669 - accuracy: 0.4942 - val_loss: 1.0417 - val_accuracy: 0.5884\n",
            "Epoch 2/10\n",
            "562/562 [==============================] - 3s 6ms/step - loss: 0.9962 - accuracy: 0.6021 - val_loss: 0.9202 - val_accuracy: 0.6366\n",
            "Epoch 3/10\n",
            "562/562 [==============================] - 3s 6ms/step - loss: 0.9204 - accuracy: 0.6377 - val_loss: 0.8520 - val_accuracy: 0.6639\n",
            "Epoch 4/10\n",
            "562/562 [==============================] - 3s 6ms/step - loss: 0.8697 - accuracy: 0.6620 - val_loss: 0.8284 - val_accuracy: 0.6745\n",
            "Epoch 5/10\n",
            "562/562 [==============================] - 3s 6ms/step - loss: 0.8559 - accuracy: 0.6649 - val_loss: 0.8030 - val_accuracy: 0.6858\n",
            "Epoch 6/10\n",
            "562/562 [==============================] - 3s 6ms/step - loss: 0.8339 - accuracy: 0.6785 - val_loss: 0.7819 - val_accuracy: 0.6968\n",
            "Epoch 7/10\n",
            "562/562 [==============================] - 3s 6ms/step - loss: 0.8242 - accuracy: 0.6797 - val_loss: 0.7789 - val_accuracy: 0.6991\n",
            "Epoch 8/10\n",
            "562/562 [==============================] - 3s 6ms/step - loss: 0.7930 - accuracy: 0.6934 - val_loss: 0.7775 - val_accuracy: 0.6988\n",
            "Epoch 9/10\n",
            "562/562 [==============================] - 3s 6ms/step - loss: 0.7903 - accuracy: 0.6978 - val_loss: 0.7753 - val_accuracy: 0.7045\n",
            "Epoch 10/10\n",
            "562/562 [==============================] - 3s 6ms/step - loss: 0.7868 - accuracy: 0.6972 - val_loss: 0.7358 - val_accuracy: 0.7287\n"
          ],
          "name": "stdout"
        },
        {
          "output_type": "execute_result",
          "data": {
            "text/plain": [
              "<tensorflow.python.keras.callbacks.History at 0x7f67964c9410>"
            ]
          },
          "metadata": {
            "tags": []
          },
          "execution_count": 58
        }
      ]
    },
    {
      "cell_type": "code",
      "metadata": {
        "colab": {
          "base_uri": "https://localhost:8080/"
        },
        "id": "o5pzIZ5LgDOC",
        "outputId": "a14df175-a754-41fb-ed3d-65b0ff9b2b54"
      },
      "source": [
        "model_3.evaluate(val_char_dataset)"
      ],
      "execution_count": null,
      "outputs": [
        {
          "output_type": "stream",
          "text": [
            "945/945 [==============================] - 4s 4ms/step - loss: 0.7620 - accuracy: 0.7101\n"
          ],
          "name": "stdout"
        },
        {
          "output_type": "execute_result",
          "data": {
            "text/plain": [
              "[0.7619976997375488, 0.710148274898529]"
            ]
          },
          "metadata": {
            "tags": []
          },
          "execution_count": 59
        }
      ]
    },
    {
      "cell_type": "code",
      "metadata": {
        "colab": {
          "base_uri": "https://localhost:8080/"
        },
        "id": "q5xI6YZ2h1pk",
        "outputId": "6b8169c9-4c22-487e-9ad3-8685af9d5df2"
      },
      "source": [
        "model_3_pred_probs = model_3.predict(val_char_dataset)\n",
        "model_3_preds = tf.argmax(model_3_pred_probs, axis=1)\n",
        "model_3_results = calculate_results(y_true=val_labels_encoded,\n",
        "                                    y_pred=model_3_preds)\n",
        "\n",
        "\n",
        "model_3_results"
      ],
      "execution_count": null,
      "outputs": [
        {
          "output_type": "execute_result",
          "data": {
            "text/plain": [
              "{'accuracy': 71.01482854494903,\n",
              " 'f1': 0.7050496755309736,\n",
              " 'precision': 0.7040751559088542,\n",
              " 'recall': 0.7101482854494903}"
            ]
          },
          "metadata": {
            "tags": []
          },
          "execution_count": 60
        }
      ]
    },
    {
      "cell_type": "markdown",
      "metadata": {
        "id": "LwJc0H9IkNwZ"
      },
      "source": [
        "###Model 4: token-char embedding model (hybrid embedding)"
      ]
    },
    {
      "cell_type": "code",
      "metadata": {
        "id": "GLjkZBFUkRA2",
        "colab": {
          "base_uri": "https://localhost:8080/"
        },
        "outputId": "484561f3-3acf-4121-bb1b-f5e46b5b585b"
      },
      "source": [
        "# token-inputs model\n",
        "token_inputs_4 = layers.Input(shape=[], dtype=tf.string)\n",
        "token_embeddings_4 = tf_hub_embedding(token_inputs_4)\n",
        "token_output = layers.Dense(128, activation=\"relu\")(token_embeddings_4)\n",
        "token_model = tf.keras.Model(inputs=token_inputs_4, outputs=token_output)\n",
        "\n",
        "# char-inputs model\n",
        "char_inputs_4 = layers.Input(shape=(1,), dtype=tf.string)\n",
        "char_vectors_4 = char_vectorizer(char_inputs_4)\n",
        "char_embeddings_4 = char_embedding(char_vectors_4)\n",
        "char_bi_lstm = layers.Bidirectional(layers.LSTM(32))(char_embeddings_4)\n",
        "char_model = tf.keras.Model(inputs=char_inputs_4, outputs=char_bi_lstm)\n",
        "\n",
        "# token-char inputs concatenation model\n",
        "token_char_concat = layers.Concatenate()([token_model.output, char_model.output])\n",
        "\n",
        "concat_dropout = layers.Dropout(0.5)(token_char_concat)\n",
        "concat_dense = layers.Dense(128, activation=\"relu\")(concat_dropout)\n",
        "output_dropout = layers.Dropout(0.5)(concat_dense)\n",
        "output_4 = layers.Dense(5, activation=\"softmax\")(output_dropout)\n",
        "\n",
        "model_4 = tf.keras.Model(inputs=[token_inputs_4, char_inputs_4],\n",
        "                         outputs=output_4,\n",
        "                         name=\"model_4\")\n",
        "\n",
        "\n",
        "model_4.summary()"
      ],
      "execution_count": null,
      "outputs": [
        {
          "output_type": "stream",
          "text": [
            "Model: \"model_4\"\n",
            "__________________________________________________________________________________________________\n",
            "Layer (type)                    Output Shape         Param #     Connected to                     \n",
            "==================================================================================================\n",
            "input_5 (InputLayer)            [(None, 1)]          0                                            \n",
            "__________________________________________________________________________________________________\n",
            "input_4 (InputLayer)            [(None,)]            0                                            \n",
            "__________________________________________________________________________________________________\n",
            "char_vectorizer (TextVectorizat (None, 290)          0           input_5[0][0]                    \n",
            "__________________________________________________________________________________________________\n",
            "universal_sentence_encoder (Ker (None, 512)          256797824   input_4[0][0]                    \n",
            "__________________________________________________________________________________________________\n",
            "char_embedding (Embedding)      (None, 290, 25)      700         char_vectorizer[1][0]            \n",
            "__________________________________________________________________________________________________\n",
            "dense_4 (Dense)                 (None, 128)          65664       universal_sentence_encoder[1][0] \n",
            "__________________________________________________________________________________________________\n",
            "bidirectional (Bidirectional)   (None, 64)           14848       char_embedding[1][0]             \n",
            "__________________________________________________________________________________________________\n",
            "concatenate (Concatenate)       (None, 192)          0           dense_4[0][0]                    \n",
            "                                                                 bidirectional[0][0]              \n",
            "__________________________________________________________________________________________________\n",
            "dropout (Dropout)               (None, 192)          0           concatenate[0][0]                \n",
            "__________________________________________________________________________________________________\n",
            "dense_5 (Dense)                 (None, 128)          24704       dropout[0][0]                    \n",
            "__________________________________________________________________________________________________\n",
            "dropout_1 (Dropout)             (None, 128)          0           dense_5[0][0]                    \n",
            "__________________________________________________________________________________________________\n",
            "dense_6 (Dense)                 (None, 5)            645         dropout_1[0][0]                  \n",
            "==================================================================================================\n",
            "Total params: 256,904,385\n",
            "Trainable params: 106,561\n",
            "Non-trainable params: 256,797,824\n",
            "__________________________________________________________________________________________________\n"
          ],
          "name": "stdout"
        }
      ]
    },
    {
      "cell_type": "code",
      "metadata": {
        "colab": {
          "base_uri": "https://localhost:8080/",
          "height": 844
        },
        "id": "m9JWGIjI-Hby",
        "outputId": "c23a3e86-19b7-469f-cc2f-968f681f7e42"
      },
      "source": [
        "from tensorflow.keras.utils import plot_model\n",
        "plot_model(model_4, show_shapes=True)"
      ],
      "execution_count": null,
      "outputs": [
        {
          "output_type": "execute_result",
          "data": {
            "image/png": "[encoded data removed]",
            "text/plain": [
              "<IPython.core.display.Image object>"
            ]
          },
          "metadata": {
            "tags": []
          },
          "execution_count": 62
        }
      ]
    },
    {
      "cell_type": "code",
      "metadata": {
        "id": "VMgApK9sII1G"
      },
      "source": [
        "model_4.compile(loss=\"categorical_crossentropy\",\n",
        "                optimizer=tf.keras.optimizers.Adam(),\n",
        "                metrics=[\"accuracy\"])"
      ],
      "execution_count": null,
      "outputs": []
    },
    {
      "cell_type": "code",
      "metadata": {
        "id": "UBhNkQaYbmwx"
      },
      "source": [
        "train_token_char_data = tf.data.Dataset.from_tensor_slices((train_sentences, train_chars))\n",
        "train_token_char_label = tf.data.Dataset.from_tensor_slices(train_labels_one_hot)\n",
        "train_token_char_dataset = tf.data.Dataset.zip((train_token_char_data, train_token_char_label)).batch(32).prefetch(tf.data.AUTOTUNE)\n",
        "\n",
        "val_token_char_data = tf.data.Dataset.from_tensor_slices((val_sentences, val_chars))\n",
        "val_token_char_label = tf.data.Dataset.from_tensor_slices(val_labels_one_hot)\n",
        "val_token_char_dataset = tf.data.Dataset.zip((val_token_char_data, val_token_char_label)).batch(32).prefetch(tf.data.AUTOTUNE)\n",
        "\n",
        "test_token_char_data = tf.data.Dataset.from_tensor_slices((test_sentences, test_chars))\n",
        "test_token_char_label = tf.data.Dataset.from_tensor_slices(test_labels_one_hot)\n",
        "test_token_char_dataset = tf.data.Dataset.zip((test_token_char_data, test_token_char_label)).batch(32).prefetch(tf.data.AUTOTUNE)"
      ],
      "execution_count": null,
      "outputs": []
    },
    {
      "cell_type": "code",
      "metadata": {
        "id": "IzgY_W06dhdn",
        "colab": {
          "base_uri": "https://localhost:8080/"
        },
        "outputId": "d20d233d-126b-4cf8-ae59-a9ec6ada7f00"
      },
      "source": [
        "model_4.fit(train_token_char_dataset,\n",
        "            steps_per_epoch=int(0.1*len(train_token_char_dataset)),\n",
        "            epochs=10,\n",
        "            validation_data=val_token_char_dataset,\n",
        "            validation_steps=int(0.1*len(val_token_char_dataset)))"
      ],
      "execution_count": null,
      "outputs": [
        {
          "output_type": "stream",
          "text": [
            "Epoch 1/10\n",
            "562/562 [==============================] - 36s 49ms/step - loss: 0.9760 - accuracy: 0.6118 - val_loss: 0.7813 - val_accuracy: 0.7015\n",
            "Epoch 2/10\n",
            "562/562 [==============================] - 25s 44ms/step - loss: 0.7989 - accuracy: 0.6929 - val_loss: 0.7140 - val_accuracy: 0.7284\n",
            "Epoch 3/10\n",
            "562/562 [==============================] - 24s 43ms/step - loss: 0.7691 - accuracy: 0.7087 - val_loss: 0.6923 - val_accuracy: 0.7340\n",
            "Epoch 4/10\n",
            "562/562 [==============================] - 27s 49ms/step - loss: 0.7386 - accuracy: 0.7207 - val_loss: 0.6621 - val_accuracy: 0.7517\n",
            "Epoch 5/10\n",
            "562/562 [==============================] - 24s 43ms/step - loss: 0.7447 - accuracy: 0.7154 - val_loss: 0.6535 - val_accuracy: 0.7507\n",
            "Epoch 6/10\n",
            "562/562 [==============================] - 24s 43ms/step - loss: 0.7403 - accuracy: 0.7188 - val_loss: 0.6477 - val_accuracy: 0.7563\n",
            "Epoch 7/10\n",
            "562/562 [==============================] - 29s 51ms/step - loss: 0.7110 - accuracy: 0.7336 - val_loss: 0.6384 - val_accuracy: 0.7633\n",
            "Epoch 8/10\n",
            "562/562 [==============================] - 25s 44ms/step - loss: 0.6998 - accuracy: 0.7372 - val_loss: 0.6276 - val_accuracy: 0.7623\n",
            "Epoch 9/10\n",
            "562/562 [==============================] - 26s 46ms/step - loss: 0.7026 - accuracy: 0.7330 - val_loss: 0.6238 - val_accuracy: 0.7610\n",
            "Epoch 10/10\n",
            "562/562 [==============================] - 26s 47ms/step - loss: 0.7002 - accuracy: 0.7383 - val_loss: 0.6165 - val_accuracy: 0.7673\n"
          ],
          "name": "stdout"
        },
        {
          "output_type": "execute_result",
          "data": {
            "text/plain": [
              "<tensorflow.python.keras.callbacks.History at 0x7f67543e4ed0>"
            ]
          },
          "metadata": {
            "tags": []
          },
          "execution_count": 65
        }
      ]
    },
    {
      "cell_type": "code",
      "metadata": {
        "colab": {
          "base_uri": "https://localhost:8080/"
        },
        "id": "Le3tq-hykOm5",
        "outputId": "1e1e849b-d9f7-400a-e274-95633142b15f"
      },
      "source": [
        "model_4_pred_probs = model_4.predict(val_token_char_dataset)\n",
        "model_4_preds = tf.argmax(model_4_pred_probs, axis=1)\n",
        "model_4_results = calculate_results(y_true=val_labels_encoded,\n",
        "                                    y_pred=model_4_preds)\n",
        "\n",
        "\n",
        "model_4_results"
      ],
      "execution_count": null,
      "outputs": [
        {
          "output_type": "execute_result",
          "data": {
            "text/plain": [
              "{'accuracy': 76.28094796769496,\n",
              " 'f1': 0.7578571981229492,\n",
              " 'precision': 0.7596534273111337,\n",
              " 'recall': 0.7628094796769496}"
            ]
          },
          "metadata": {
            "tags": []
          },
          "execution_count": 66
        }
      ]
    },
    {
      "cell_type": "markdown",
      "metadata": {
        "id": "TjOhUL99sRjl"
      },
      "source": [
        "###Model 5: token embeddengs + character embeddengs + positional embeddings (tribrid model)"
      ]
    },
    {
      "cell_type": "code",
      "metadata": {
        "colab": {
          "base_uri": "https://localhost:8080/"
        },
        "id": "GfSQhZzqr-KV",
        "outputId": "ec5e2a39-1143-4b78-f66f-91bd776cf846"
      },
      "source": [
        "train_df['line_number'].value_counts()"
      ],
      "execution_count": null,
      "outputs": [
        {
          "output_type": "execute_result",
          "data": {
            "text/plain": [
              "0     15000\n",
              "1     15000\n",
              "2     15000\n",
              "3     15000\n",
              "4     14992\n",
              "5     14949\n",
              "6     14758\n",
              "7     14279\n",
              "8     13346\n",
              "9     11981\n",
              "10    10041\n",
              "11     7892\n",
              "12     5853\n",
              "13     4152\n",
              "14     2835\n",
              "15     1861\n",
              "16     1188\n",
              "17      751\n",
              "18      462\n",
              "19      286\n",
              "20      162\n",
              "21      101\n",
              "22       66\n",
              "23       33\n",
              "24       22\n",
              "25       14\n",
              "26        7\n",
              "27        4\n",
              "28        3\n",
              "29        1\n",
              "30        1\n",
              "Name: line_number, dtype: int64"
            ]
          },
          "metadata": {
            "tags": []
          },
          "execution_count": 67
        }
      ]
    },
    {
      "cell_type": "code",
      "metadata": {
        "colab": {
          "base_uri": "https://localhost:8080/",
          "height": 282
        },
        "id": "RqzmsEL_smtH",
        "outputId": "5e9345e4-e3c2-41a8-e08e-dd26de707267"
      },
      "source": [
        "train_df['line_number'].plot.hist()"
      ],
      "execution_count": null,
      "outputs": [
        {
          "output_type": "execute_result",
          "data": {
            "text/plain": [
              "<matplotlib.axes._subplots.AxesSubplot at 0x7f687baee410>"
            ]
          },
          "metadata": {
            "tags": []
          },
          "execution_count": 68
        },
        {
          "output_type": "display_data",
          "data": {
            "image/png": "[encoded data removed]",
            "text/plain": [
              "<Figure size 432x288 with 1 Axes>"
            ]
          },
          "metadata": {
            "tags": [],
            "needs_background": "light"
          }
        }
      ]
    },
    {
      "cell_type": "code",
      "metadata": {
        "id": "WsO_adZ9tqom"
      },
      "source": [
        "train_line_numbers_one_hot = tf.one_hot(train_df[\"line_number\"].to_numpy(), depth=15)\n",
        "val_line_numbers_one_hot = tf.one_hot(val_df[\"line_number\"].to_numpy(), depth=15)\n",
        "test_line_numbers_one_hot = tf.one_hot(test_df[\"line_number\"].to_numpy(), depth=15)"
      ],
      "execution_count": null,
      "outputs": []
    },
    {
      "cell_type": "code",
      "metadata": {
        "colab": {
          "base_uri": "https://localhost:8080/"
        },
        "id": "52KQD3CEvw2y",
        "outputId": "8f3f20b4-7188-400c-fc2c-697746aded62"
      },
      "source": [
        "train_df['total_lines'].value_counts()"
      ],
      "execution_count": null,
      "outputs": [
        {
          "output_type": "execute_result",
          "data": {
            "text/plain": [
              "11    24468\n",
              "10    23639\n",
              "12    22113\n",
              "9     19400\n",
              "13    18438\n",
              "14    14610\n",
              "8     12285\n",
              "15    10768\n",
              "7      7464\n",
              "16     7429\n",
              "17     5202\n",
              "6      3353\n",
              "18     3344\n",
              "19     2480\n",
              "20     1281\n",
              "5      1146\n",
              "21      770\n",
              "22      759\n",
              "23      264\n",
              "4       215\n",
              "24      200\n",
              "25      182\n",
              "26       81\n",
              "28       58\n",
              "3        32\n",
              "30       31\n",
              "27       28\n",
              "Name: total_lines, dtype: int64"
            ]
          },
          "metadata": {
            "tags": []
          },
          "execution_count": 70
        }
      ]
    },
    {
      "cell_type": "code",
      "metadata": {
        "colab": {
          "base_uri": "https://localhost:8080/",
          "height": 284
        },
        "id": "WCbUlv0AwIQD",
        "outputId": "eae2714d-9d94-4a3a-9e8e-f234311d9ce8"
      },
      "source": [
        "train_df['total_lines'].plot.hist()"
      ],
      "execution_count": null,
      "outputs": [
        {
          "output_type": "execute_result",
          "data": {
            "text/plain": [
              "<matplotlib.axes._subplots.AxesSubplot at 0x7f687ba02b90>"
            ]
          },
          "metadata": {
            "tags": []
          },
          "execution_count": 71
        },
        {
          "output_type": "display_data",
          "data": {
            "image/png": "[encoded data removed]",
            "text/plain": [
              "<Figure size 432x288 with 1 Axes>"
            ]
          },
          "metadata": {
            "tags": [],
            "needs_background": "light"
          }
        }
      ]
    },
    {
      "cell_type": "code",
      "metadata": {
        "colab": {
          "base_uri": "https://localhost:8080/"
        },
        "id": "9pAyEmigwMf7",
        "outputId": "df8c8b2a-97d8-4b03-b7cb-5ca7cc6056ed"
      },
      "source": [
        "coverage = np.percentile(train_df['total_lines'], 95)\n",
        "coverage"
      ],
      "execution_count": null,
      "outputs": [
        {
          "output_type": "execute_result",
          "data": {
            "text/plain": [
              "18.0"
            ]
          },
          "metadata": {
            "tags": []
          },
          "execution_count": 72
        }
      ]
    },
    {
      "cell_type": "code",
      "metadata": {
        "id": "dHzFtMCtw3qf"
      },
      "source": [
        "train_total_lines_one_hot = tf.one_hot(train_df[\"total_lines\"].to_numpy(), depth=20)\n",
        "val_total_lines_one_hot = tf.one_hot(val_df[\"total_lines\"].to_numpy(), depth=20)\n",
        "test_total_lines_one_hot = tf.one_hot(test_df[\"total_lines\"].to_numpy(), depth=20)"
      ],
      "execution_count": null,
      "outputs": []
    },
    {
      "cell_type": "code",
      "metadata": {
        "colab": {
          "base_uri": "https://localhost:8080/"
        },
        "id": "12rd0V-81FWU",
        "outputId": "a7f11ae6-89ca-4a1a-dda8-f63c95c7a4a3"
      },
      "source": [
        "token_inputs_5 = layers.Input(shape=[], dtype=tf.string)\n",
        "token_embeddings_5 = tf_hub_embedding(token_inputs_5)\n",
        "token_output_5 = layers.Dense(128, activation=\"relu\")(token_embeddings_5)\n",
        "token_model_5 = tf.keras.Model(inputs=token_inputs_5, outputs=token_output_5)\n",
        "\n",
        "char_inputs_5 = layers.Input(shape=(1,), dtype=tf.string)\n",
        "char_vectors_5 = char_vectorizer(char_inputs_5)\n",
        "char_embeddings_5 = char_embedding(char_vectors_5)\n",
        "char_bi_lstm_5 = layers.Bidirectional(layers.LSTM(32))(char_embeddings_5)\n",
        "char_model_5 = tf.keras.Model(inputs=char_inputs_5, outputs=char_bi_lstm_5)\n",
        "\n",
        "\n",
        "line_number_inputs = layers.Input(shape=(15,), dtype=tf.float32)\n",
        "xl = layers.Dense(32, activation=\"relu\")(line_number_inputs)\n",
        "line_number_model = tf.keras.Model(inputs=line_number_inputs,\n",
        "                                   outputs=xl)\n",
        "\n",
        "total_lines_inputs = layers.Input(shape=(20,), dtype=tf.float32)\n",
        "xt = layers.Dense(32, activation=\"relu\")(total_lines_inputs)\n",
        "total_lines_model = tf.keras.Model(inputs=total_lines_inputs,\n",
        "                                   outputs=xt)\n",
        "\n",
        "hybrid_embeddings = layers.Concatenate()([token_model_5.output, char_model_5.output])\n",
        "z = xt = layers.Dense(256, activation=\"relu\")(hybrid_embeddings)\n",
        "z = layers.Dropout(0.5)(z)\n",
        "\n",
        "tribrid_embeddings = layers.Concatenate()([line_number_model.output, \n",
        "                                           total_lines_model.output, \n",
        "                                           z])\n",
        "\n",
        "output_5 = layers.Dense(5, activation=\"softmax\")(tribrid_embeddings)\n",
        "\n",
        "model_5 = tf.keras.Model(inputs=[line_number_model.input, \n",
        "                                 total_lines_model.input,\n",
        "                                 token_model_5.input,\n",
        "                                 char_model_5.input],\n",
        "                         outputs=output_5)\n",
        "\n",
        "model_5.summary()"
      ],
      "execution_count": null,
      "outputs": [
        {
          "output_type": "stream",
          "text": [
            "Model: \"model_11\"\n",
            "__________________________________________________________________________________________________\n",
            "Layer (type)                    Output Shape         Param #     Connected to                     \n",
            "==================================================================================================\n",
            "input_11 (InputLayer)           [(None, 1)]          0                                            \n",
            "__________________________________________________________________________________________________\n",
            "input_10 (InputLayer)           [(None,)]            0                                            \n",
            "__________________________________________________________________________________________________\n",
            "char_vectorizer (TextVectorizat (None, 290)          0           input_11[0][0]                   \n",
            "__________________________________________________________________________________________________\n",
            "universal_sentence_encoder (Ker (None, 512)          256797824   input_10[0][0]                   \n",
            "__________________________________________________________________________________________________\n",
            "char_embedding (Embedding)      (None, 290, 25)      700         char_vectorizer[3][0]            \n",
            "__________________________________________________________________________________________________\n",
            "dense_12 (Dense)                (None, 128)          65664       universal_sentence_encoder[3][0] \n",
            "__________________________________________________________________________________________________\n",
            "bidirectional_2 (Bidirectional) (None, 64)           14848       char_embedding[3][0]             \n",
            "__________________________________________________________________________________________________\n",
            "concatenate_3 (Concatenate)     (None, 192)          0           dense_12[0][0]                   \n",
            "                                                                 bidirectional_2[0][0]            \n",
            "__________________________________________________________________________________________________\n",
            "input_12 (InputLayer)           [(None, 15)]         0                                            \n",
            "__________________________________________________________________________________________________\n",
            "input_13 (InputLayer)           [(None, 20)]         0                                            \n",
            "__________________________________________________________________________________________________\n",
            "dense_15 (Dense)                (None, 256)          49408       concatenate_3[0][0]              \n",
            "__________________________________________________________________________________________________\n",
            "dense_13 (Dense)                (None, 32)           512         input_12[0][0]                   \n",
            "__________________________________________________________________________________________________\n",
            "dense_14 (Dense)                (None, 32)           672         input_13[0][0]                   \n",
            "__________________________________________________________________________________________________\n",
            "dropout_3 (Dropout)             (None, 256)          0           dense_15[0][0]                   \n",
            "__________________________________________________________________________________________________\n",
            "concatenate_4 (Concatenate)     (None, 320)          0           dense_13[0][0]                   \n",
            "                                                                 dense_14[0][0]                   \n",
            "                                                                 dropout_3[0][0]                  \n",
            "__________________________________________________________________________________________________\n",
            "dense_16 (Dense)                (None, 5)            1605        concatenate_4[0][0]              \n",
            "==================================================================================================\n",
            "Total params: 256,931,233\n",
            "Trainable params: 133,409\n",
            "Non-trainable params: 256,797,824\n",
            "__________________________________________________________________________________________________\n"
          ],
          "name": "stdout"
        }
      ]
    },
    {
      "cell_type": "code",
      "metadata": {
        "colab": {
          "base_uri": "https://localhost:8080/",
          "height": 579
        },
        "id": "BWLrvkrF_8XN",
        "outputId": "46622822-02af-410e-bd5c-24e46e4130a2"
      },
      "source": [
        "plot_model(model_5, show_shapes=True)"
      ],
      "execution_count": null,
      "outputs": [
        {
          "output_type": "execute_result",
          "data": {
            "image/png": "[encoded data removed]",
            "text/plain": [
              "<IPython.core.display.Image object>"
            ]
          },
          "metadata": {
            "tags": []
          },
          "execution_count": 78
        }
      ]
    },
    {
      "cell_type": "code",
      "metadata": {
        "id": "MgZHMa50AYak"
      },
      "source": [
        "model_5.compile(loss=tf.keras.losses.CategoricalCrossentropy(label_smoothing=0.2),\n",
        "                optimizer=tf.keras.optimizers.Adam(),\n",
        "                metrics=[\"accuracy\"])"
      ],
      "execution_count": null,
      "outputs": []
    },
    {
      "cell_type": "code",
      "metadata": {
        "id": "BPOo0KubDHKb"
      },
      "source": [
        ""
      ],
      "execution_count": null,
      "outputs": []
    }
  ]
}